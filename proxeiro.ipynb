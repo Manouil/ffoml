{
 "cells": [
  {
   "cell_type": "code",
   "execution_count": 2,
   "metadata": {},
   "outputs": [
    {
     "name": "stdout",
     "output_type": "stream",
     "text": [
      "regarding the number of parameters for each model the results are not that tight.\n",
      "For fully connected layers, each neuron was one parameter for each input, plus the bias so for the first layer we get (784+1)*500=392.\n",
      "500.\n",
      "The, each layer adds (500+1)*500=250.\n",
      "500 parameters and the softmax layer adds (500+1)*10=5.\n",
      "010 parameters.\n",
      "This works out to be 397.\n",
      "510+250.\n",
      "500*n where n is the number of layers.\n",
      "We can plot these along with the respective accuracies.\n"
     ]
    }
   ],
   "source": [
    "text = 'regarding the number of parameters for each model the results are not that tight. For fully connected layers, each neuron was one parameter for each input, plus the bias so for the first layer we get (784+1)*500=392.500. The, each layer adds (500+1)*500=250.500 parameters and the softmax layer adds (500+1)*10=5.010 parameters. This works out to be 397.510+250.500*n where n is the number of layers. We can plot these along with the respective accuracies '\n",
    "\n",
    "# Split the text at every period and reformat with newlines\n",
    "formatted_text = \"\\n\".join(sentence.strip() + \".\" for sentence in text.split(\".\") if sentence.strip())\n",
    "\n",
    "# Print the result\n",
    "print(formatted_text)"
   ]
  },
  {
   "cell_type": "markdown",
   "metadata": {},
   "source": [
    "References: \n",
    "\n",
    "Khee, L. K., 2022 \\textit{Limitation of Data Visualisation} [Online]. Available from https://medium.com/@e0673935/limitation-of-data-visualization-1e4db068a22a [Accessed 13 October 2024]\n",
    "\n",
    "Mackiewicz, A., Ratajczak, W., 1993. Principal Components Analysis. \\textit{Computers & Geosciences}, 19(3), 303-342"
   ]
  }
 ],
 "metadata": {
  "kernelspec": {
   "display_name": "ffoml2",
   "language": "python",
   "name": "python3"
  },
  "language_info": {
   "codemirror_mode": {
    "name": "ipython",
    "version": 3
   },
   "file_extension": ".py",
   "mimetype": "text/x-python",
   "name": "python",
   "nbconvert_exporter": "python",
   "pygments_lexer": "ipython3",
   "version": "3.8.18"
  }
 },
 "nbformat": 4,
 "nbformat_minor": 2
}
