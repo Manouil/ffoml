{
 "cells": [
  {
   "cell_type": "code",
   "execution_count": 1,
   "metadata": {},
   "outputs": [
    {
     "name": "stdout",
     "output_type": "stream",
     "text": [
      "At first sight it might seem as if the accuracy is lower that with the perceptron.\n",
      "The reason why this comparison would be misguided is that the model now performs multiclass classification, not binary classification, which is significantly more demanding.\n"
     ]
    }
   ],
   "source": [
    "text = 'At first sight it might seem as if the accuracy is lower that with the perceptron. The reason why this comparison would be misguided is that the model now performs multiclass classification, not binary classification, which is significantly more demanding.'\n",
    "\n",
    "\n",
    "# Split the text at every period and reformat with newlines\n",
    "formatted_text = \"\\n\".join(sentence.strip() + \".\" for sentence in text.split(\".\") if sentence.strip())\n",
    "\n",
    "# Print the result\n",
    "print(formatted_text)"
   ]
  }
 ],
 "metadata": {
  "kernelspec": {
   "display_name": "ffoml2",
   "language": "python",
   "name": "python3"
  },
  "language_info": {
   "codemirror_mode": {
    "name": "ipython",
    "version": 3
   },
   "file_extension": ".py",
   "mimetype": "text/x-python",
   "name": "python",
   "nbconvert_exporter": "python",
   "pygments_lexer": "ipython3",
   "version": "3.8.18"
  }
 },
 "nbformat": 4,
 "nbformat_minor": 2
}
